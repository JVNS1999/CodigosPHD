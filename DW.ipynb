{
  "cells": [
    {
      "cell_type": "code",
      "execution_count": null,
      "metadata": {
        "colab": {
          "base_uri": "https://localhost:8080/"
        },
        "id": "kUR5lqNOToCY",
        "outputId": "0de95442-ea30-4e0b-82d9-d7f24d4856a6"
      },
      "outputs": [
        {
          "output_type": "stream",
          "name": "stdout",
          "text": [
            "Archivo: m000000.ovf, Valor extraído: 0\n",
            "Archivo: m000001.ovf, Valor extraído: 0\n",
            "Archivo: m000002.ovf, Valor extraído: 0\n",
            "Archivo: m000003.ovf, Valor extraído: 0\n",
            "Archivo: m000004.ovf, Valor extraído: 0\n",
            "Archivo: m000005.ovf, Valor extraído: 0\n",
            "Archivo: m000006.ovf, Valor extraído: 0\n",
            "Archivo: m000007.ovf, Valor extraído: 0\n",
            "Archivo: m000008.ovf, Valor extraído: 0\n",
            "Archivo: m000009.ovf, Valor extraído: 0\n",
            "Archivo: m000010.ovf, Valor extraído: 0\n",
            "Archivo: m000011.ovf, Valor extraído: 0\n",
            "Archivo: m000012.ovf, Valor extraído: 0\n",
            "Archivo: m000013.ovf, Valor extraído: 0\n",
            "Archivo: m000014.ovf, Valor extraído: 0\n",
            "Archivo: m000015.ovf, Valor extraído: 0\n",
            "Archivo: m000016.ovf, Valor extraído: 0\n",
            "Archivo: m000017.ovf, Valor extraído: 0\n",
            "Archivo: m000018.ovf, Valor extraído: 0\n",
            "Archivo: m000019.ovf, Valor extraído: 0\n",
            "Archivo: m000020.ovf, Valor extraído: 0\n",
            "Archivo: m000021.ovf, Valor extraído: 0\n"
          ]
        }
      ],
      "source": [
        "import re\n",
        "import glob\n",
        "import pandas as pd\n",
        "\n",
        "\n",
        "def extract_time(filename):\n",
        "\n",
        "    match = re.search(r'm(\\d+\\.\\d+)', filename)\n",
        "    if match:\n",
        "\n",
        "        return float(match.group(1))\n",
        "\n",
        "    return 0\n",
        "\n",
        "\n",
        "archivos_ovf = sorted(glob.glob('*.ovf'))\n",
        "\n",
        "sorted_files = sorted(archivos_ovf, key=extract_time)\n",
        "\n",
        "\n",
        "for archivo in sorted_files:\n",
        "    print(f'Archivo: {archivo}, Valor extraído: {extract_time(archivo)}')"
      ]
    },
    {
      "cell_type": "markdown",
      "metadata": {
        "id": "G58FLtreL4FO"
      },
      "source": [
        "# Calcular Posição e velocidade"
      ]
    },
    {
      "cell_type": "code",
      "execution_count": null,
      "metadata": {
        "colab": {
          "base_uri": "https://localhost:8080/",
          "height": 430
        },
        "id": "4VfmS3cYCcNL",
        "outputId": "4e6fcae4-7333-4717-98e8-3b2fe42be29a"
      },
      "outputs": [
        {
          "output_type": "display_data",
          "data": {
            "text/plain": [
              "<Figure size 640x480 with 1 Axes>"
            ],
            "image/png": "[encoded data removed]"
          },
          "metadata": {}
        }
      ],
      "source": [
        "import numpy as np\n",
        "import pandas as pd\n",
        "import matplotlib.pyplot as plt\n",
        "\n",
        "\n",
        "coord = np.zeros((540*540*40, 3))\n",
        "\n",
        "#Tamanho do sistema\n",
        "beta = 1\n",
        "EMaior = 500\n",
        "EMenor = beta*EMaior\n",
        "p = 0\n",
        "for k in range(40):\n",
        "    z = 1 + 2 * k\n",
        "    for j in range(540):\n",
        "        y = 1 + 2 * j\n",
        "        for i in range(540):\n",
        "            x = 1 + 2 * i\n",
        "            coord[p, 0] = x - 540\n",
        "            coord[p, 1] = y - 540\n",
        "            coord[p, 2] = z - 40\n",
        "            p += 1\n",
        "\n",
        "archivos_ovf = sorted_files\n",
        "\n",
        "SKPOS = np.zeros((len(archivos_ovf), 7))\n",
        "\n",
        "for kk, archivo in enumerate(sorted_files):\n",
        "    mag = np.loadtxt(archivo, skiprows=28)\n",
        "    posicion = coord\n",
        "\n",
        "    x = posicion[:, 0]\n",
        "    y = posicion[:, 1]\n",
        "    z = posicion[:, 2]\n",
        "    mx = mag[:, 0]\n",
        "    my = mag[:, 1]\n",
        "    mz = mag[:, 2]\n",
        "\n",
        "    # Filtrar os dados com a condição -450 < x < 450\n",
        "    mask = (x > -450) & (x < 450)\n",
        "    x = x[mask]\n",
        "    y = y[mask]\n",
        "    z = z[mask]\n",
        "    mx = mx[mask]\n",
        "    my = my[mask]\n",
        "    mz = mz[mask]\n",
        "\n",
        "    u = np.arctan2(beta*y, x)\n",
        "    rho = np.sqrt(x**2 + y**2) - EMaior*np.sqrt(np.cos(u)**2 + beta*np.sin(u)**2)\n",
        "    v = np.arctan2(z, rho)\n",
        "    v[z < 0] = -v[z > 0]\n",
        "\n",
        "    tx = -np.sin(v) * np.cos(u)\n",
        "    ty = -np.sin(v) * np.sin(u)\n",
        "    tz = np.cos(v)\n",
        "\n",
        "    #\n",
        "    m = mx*tx + my*ty  + mz*tz\n",
        "\n",
        "\n",
        "\n",
        "    # Filtrar os dados onde m**2 >= 0.90\n",
        "    pos = np.where(m <= -0.98)\n",
        "    xp = x[pos]\n",
        "    yp = y[pos]\n",
        "    zp = z[pos]\n",
        "    mxx = mx[pos]\n",
        "    myy = my[pos]\n",
        "    mzz = mz[pos]\n",
        "    txp = tx[pos]\n",
        "    typ = ty[pos]\n",
        "    tzp = tz[pos]\n",
        "    up = u[pos]\n",
        "    vp = v[pos]\n",
        "    rhop = rho[pos]\n",
        "    mpos = m[pos]\n",
        "\n",
        "    # Criar DataFrame para os dados filtrados\n",
        "    df_filtered = pd.DataFrame({\n",
        "        'x': xp,\n",
        "        'y': yp,\n",
        "        'z': zp,\n",
        "        'mx': mxx,\n",
        "        'my': myy,\n",
        "        'mz': mzz,\n",
        "        'tx': txp,\n",
        "        'ty': typ,\n",
        "        'tz': tzp,\n",
        "        'u': up,\n",
        "        'v': vp,\n",
        "        'rho': rhop,\n",
        "        'm': mpos\n",
        "    })\n",
        "\n",
        "    # Guardar o arquivo TXT\n",
        "    output_filename = f\"filtered_data_{kk}.txt\"\n",
        "    df_filtered.to_csv(output_filename, sep='\\t', index=False, float_format='%.6f')\n",
        "\n",
        "    # Calcular e salvar a posição do skyrmion\n",
        "    SKPOS[kk, 0] = kk\n",
        "    SKPOS[kk, 1] = np.mean(xp)\n",
        "    SKPOS[kk, 2] = np.mean(yp)\n",
        "    SKPOS[kk, 3] = np.mean(zp)\n",
        "    u_mean = np.arctan2(SKPOS[kk, 2], SKPOS[kk, 1])\n",
        "    rho_mean = np.sqrt(SKPOS[kk, 1]**2 + SKPOS[kk, 2]**2) - EMaior*np.sqrt(np.cos(u_mean)**2 + beta*np.sin(u_mean)**2)\n",
        "    v_mean = np.arctan2(SKPOS[kk, 3], rho_mean)\n",
        "    if SKPOS[kk, 3] < 0:\n",
        "        v_mean = -v_mean\n",
        "    SKPOS[kk, 4] = v_mean\n",
        "    SKPOS[kk, 5] = u_mean\n",
        "\n",
        "     #Calcular a velocidade angular (diferença entre u_mean e o valor anterior de u_mean)\n",
        "    if kk > 0:\n",
        "        delta_u = SKPOS[kk , 5] - SKPOS[kk - 1, 5]  # Diferença entre u medios consecutivos\n",
        "        delta_t = 5e-11  # Intervalo de tempo (supondo que é constante)\n",
        "        velocity_angular = delta_u / delta_t\n",
        "    else:\n",
        "        velocity_angular = 0  # Para o primeiro valor, a velocidade angular é zero\n",
        "\n",
        "    SKPOS[kk, 6] = velocity_angular  # Armazenar a velocidade angular na coluna 6\n",
        "\n",
        "    #print(f\"Arquivo {kk} processado e salvo: {output_filename}\")\n",
        "\n",
        "\n",
        "\n",
        "# Salvar o arquivo resumo\n",
        "plt.plot( SKPOS[:,0],SKPOS[:,5] )\n",
        "df_skpos = pd.DataFrame(SKPOS, columns=['Tempo', 'PosX', 'PosY', 'PosZ', 'v', 'u', 'velocidade'])\n",
        "df_skpos.to_excel('SKPOS.xlsx', index=False)\n",
        "df_skpos.to_csv('SKPOS.txt', sep='\\t', index=False, float_format='%.6f')\n"
      ]
    },
    {
      "cell_type": "markdown",
      "metadata": {
        "id": "B42XDx77Mkii"
      },
      "source": [
        "# Cálculo da Velocidade (Comprimento do Arco)"
      ]
    },
    {
      "cell_type": "markdown",
      "metadata": {
        "id": "L6dnUhstumy6"
      },
      "source": [
        "# Ansatz"
      ]
    },
    {
      "cell_type": "code",
      "execution_count": null,
      "metadata": {
        "colab": {
          "base_uri": "https://localhost:8080/"
        },
        "id": "Z6ormN0C9Hm-",
        "outputId": "b8eb5997-7c08-4f73-8318-f1bc42ec92ff"
      },
      "outputs": [
        {
          "output_type": "stream",
          "name": "stderr",
          "text": [
            "<ipython-input-7-595bf7a2f1d4>:70: RuntimeWarning: invalid value encountered in arccos\n",
            "  Theta = np.arccos(mx*ux + my*uy)\n"
          ]
        }
      ],
      "source": [
        "import numpy as np\n",
        "import pandas as pd\n",
        "import matplotlib.pyplot as plt\n",
        "\n",
        "\n",
        "coord = np.zeros((540*540*40, 3))\n",
        "\n",
        "# Tamanho do sistema\n",
        "beta = 1\n",
        "EMaior = 450\n",
        "EMenor = beta * EMaior\n",
        "p = 0\n",
        "for k in range(40):\n",
        "    z = 1 + 2 * k\n",
        "    for j in range(540):\n",
        "        y = 1 + 2 * j\n",
        "        for i in range(540):\n",
        "            x = 1 + 2 * i\n",
        "            coord[p, 0] = x - 540\n",
        "            coord[p, 1] = y - 540\n",
        "            coord[p, 2] = z - 40\n",
        "            p += 1\n",
        "\n",
        "archivos_ovf = sorted_files\n",
        "\n",
        "SKPOS = np.zeros((len(archivos_ovf), 7))\n",
        "\n",
        "for kk, arquivo in enumerate(sorted_files):\n",
        "    mag = np.loadtxt(arquivo, skiprows=28)\n",
        "    posicion = coord\n",
        "\n",
        "    x = posicion[:, 0]\n",
        "    y = posicion[:, 1]\n",
        "    z = posicion[:, 2]\n",
        "    mx = mag[:, 0]\n",
        "    my = mag[:, 1]\n",
        "    mz = mag[:, 2]\n",
        "\n",
        "    # Filtrar os dados com a condição -20 < x < 20\n",
        "    mask = (z==29)&(x > -400) & (x < 400) & ((mx != 0) | (my != 0) | (mz != 0))\n",
        "    x = x[mask]\n",
        "    y = y[mask]\n",
        "    z = z[mask]\n",
        "    mx = mx[mask]\n",
        "    my = my[mask]\n",
        "    mz = mz[mask]\n",
        "\n",
        "    u = np.arctan2(beta * y, x)\n",
        "    rho = np.sqrt(x**2 + y**2) - EMaior * np.sqrt(np.cos(u)**2 + beta * np.sin(u)**2)\n",
        "    v = np.arctan2(z, rho)\n",
        "    #v[z < 0] = -v[z > 0]\n",
        "\n",
        "    #Vetor tangente 1\n",
        "    vx = np.sin(v) * np.cos(u)\n",
        "    vy = np.sin(v) * np.sin(u)\n",
        "    vz = -np.cos(v)\n",
        "\n",
        "    #Vetor tangente 2\n",
        "    ux = -np.sin(u)\n",
        "    uy = np.cos(u)\n",
        "    uz = 0\n",
        "\n",
        "    #Vetor normal\n",
        "\n",
        "    nx = np.cos(v)*np.cos(u)\n",
        "    ny = np.cos(v)*np.sin(u)\n",
        "    nz = np.sin(v)\n",
        "\n",
        "\n",
        "    Theta = np.arccos(mx*ux + my*uy)\n",
        "\n",
        "    # Calcula phi\n",
        "    numerador_phi = mx*nx + my*ny + mz*nz\n",
        "    denominador_phi = mx*vx + my*vy + mz*vz\n",
        "\n",
        "    Phi = np.arctan2(numerador_phi, denominador_phi)  # Usa arctan2 para considerar os quadrantes corretamente\n",
        "\n",
        "\n",
        "    # Obtemos a componente rho da magnetização\n",
        "    Mn = np.sin(Theta)*np.sin(Phi)  #Componente normal da magnetização\n",
        "\n",
        "    Mu = np.cos(Theta) # Componente tangencial\n",
        "\n",
        "    Mv = np.sin(Theta)*np.cos(Phi) #Componete na direção v\n",
        "\n",
        "\n",
        "\n",
        "    # Filtrar os dados onde m**2 <= 1.0\n",
        "    pos = np.where(mx >= -1)\n",
        "    up = u[pos]\n",
        "    vp = v[pos]\n",
        "    mxx = Mu[pos]\n",
        "    myy = Mv[pos]\n",
        "    mzz = Mn[pos]\n",
        "    Phip = Phi[pos]\n",
        "    Thetap = Theta[pos]\n",
        "\n",
        "    # Criar DataFrame para os dados filtrados\n",
        "    df_filtered = pd.DataFrame({\n",
        "        'u': up,\n",
        "        'v': vp,\n",
        "        'mu': mxx,\n",
        "        'mv': myy,\n",
        "        'mn': mzz,\n",
        "        'Phi': Phip,\n",
        "        'Theta': Thetap\n",
        "    })\n",
        "\n",
        "    # Ordenar os dados por u em ordem crescente\n",
        "    df_filtered = df_filtered.sort_values(by='u')\n",
        "\n",
        "    # Guardar o arquivo TXT\n",
        "    output_filename = f\"filtered_data_{kk}.txt\"\n",
        "    df_filtered.to_csv(output_filename, sep='\\t', index=False, float_format='%.6f')\n",
        "\n",
        "\n"
      ]
    },
    {
      "cell_type": "code",
      "source": [
        "import numpy as np\n",
        "import matplotlib.pyplot as plt\n",
        "import pandas as pd\n",
        "\n",
        "# Nome do arquivo TXT\n",
        "arquivo_txt = \"/content/filtered_data_0.txt\"  # Substitua pelo nome do seu arquivo\n",
        "\n",
        "# Ler a tabela ignorando possíveis cabeçalhos\n",
        "dados = pd.read_csv(arquivo_txt, sep='\\t', header=None)  # Ajuste 'sep' conforme necessário\n",
        "\n",
        "# Verificar se há pelo menos 2 colunas\n",
        "if dados.shape[1] < 2:\n",
        "    raise ValueError(\"O arquivo deve conter pelo menos duas colunas para o gráfico.\")\n",
        "\n",
        "# Extrair as colunas desejadas\n",
        "x = dados.iloc[:, 0]  # Segunda coluna\n",
        "y = dados.iloc[:, 6]  # Primeira coluna\n",
        "\n",
        "# Criar o gráfico\n",
        "plt.figure(figsize=(8, 6))\n",
        "plt.plot(x, y, linestyle = '-')\n",
        "plt.xlabel(\"Segunda Coluna\")\n",
        "plt.ylabel(\"Primeira Coluna\")\n",
        "plt.title(\"Gráfico da Primeira Coluna em Função da Segunda\")\n",
        "plt.grid()\n",
        "plt.show()\n"
      ],
      "metadata": {
        "colab": {
          "base_uri": "https://localhost:8080/",
          "height": 515
        },
        "id": "EfrYj4eKjjSE",
        "outputId": "b436b649-319d-450d-ae66-6ac92cf51312"
      },
      "execution_count": null,
      "outputs": [
        {
          "output_type": "display_data",
          "data": {
            "text/plain": [
              "<Figure size 800x600 with 1 Axes>"
            ],
            "image/png": "[encoded data removed]"
          },
          "metadata": {}
        }
      ]
    }
  ],
  "metadata": {
    "colab": {
      "provenance": []
    },
    "kernelspec": {
      "display_name": "Python 3",
      "name": "python3"
    },
    "language_info": {
      "name": "python"
    }
  },
  "nbformat": 4,
  "nbformat_minor": 0
}