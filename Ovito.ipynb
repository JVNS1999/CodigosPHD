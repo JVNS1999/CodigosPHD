{
 "cells": [
  {
   "cell_type": "code",
   "execution_count": 4,
   "id": "fbdb1f83",
   "metadata": {},
   "outputs": [],
   "source": [
    "import numpy as np\n",
    "\n",
    "# Carregar os dados do arquivo .txt\n",
    "data = np.loadtxt('TesteOvito.txt')  # Ajuste para o caminho do seu arquivo .txt"
   ]
  },
  {
   "cell_type": "code",
   "execution_count": 6,
   "id": "03dd3f95",
   "metadata": {},
   "outputs": [],
   "source": [
    "import numpy as np\n",
    "\n",
    "# Carregar os dados do arquivo .txt\n",
    "data = np.loadtxt('TesteOvito2.txt')  # Ajuste para o caminho do seu arquivo .txt"
   ]
  },
  {
   "cell_type": "code",
   "execution_count": 7,
   "id": "9962f393",
   "metadata": {},
   "outputs": [],
   "source": [
    "# Número de átomos\n",
    "num_atoms = len(data)\n",
    "\n",
    "# Criar o arquivo .xyz\n",
    "with open('saida2.xyz', 'w') as f:\n",
    "    f.write(f\"{num_atoms}\\n\")  # Número de átomos\n",
    "    for row in data:\n",
    "        x, y, z = row[0], row[1], row[2]  # Coordenadas\n",
    "        Mx, My, Mz = row[3], row[4], row[5]  # Magnetização (opcional, se quiser incluir)\n",
    "        \n",
    "        # Se você deseja adicionar a magnetização como comentário:\n",
    "        f.write(f\"{x} {y} {z}   {Mx} {My} {Mz}\\n\")\n",
    "        \n",
    "        # Se você só quiser as coordenadas e ignora a magnetização:\n",
    "        # f.write(f\"{x} {y} {z}\\n\")"
   ]
  },
  {
   "cell_type": "code",
   "execution_count": null,
   "id": "3e6b2b0a",
   "metadata": {},
   "outputs": [],
   "source": []
  }
 ],
 "metadata": {
  "kernelspec": {
   "display_name": "Python 3 (ipykernel)",
   "language": "python",
   "name": "python3"
  },
  "language_info": {
   "codemirror_mode": {
    "name": "ipython",
    "version": 3
   },
   "file_extension": ".py",
   "mimetype": "text/x-python",
   "name": "python",
   "nbconvert_exporter": "python",
   "pygments_lexer": "ipython3",
   "version": "3.12.3"
  }
 },
 "nbformat": 4,
 "nbformat_minor": 5
}
